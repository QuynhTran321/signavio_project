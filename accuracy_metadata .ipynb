{
 "cells": [
  {
   "cell_type": "code",
   "execution_count": 809,
   "metadata": {},
   "outputs": [],
   "source": [
    "from os import listdir\n",
    "from os.path import isfile, join\n",
    "from tabulate import tabulate\n",
    "from tika import parser \n",
    "import pprint\n",
    "import pandas as pd\n",
    "import meta_information_class\n",
    "import numpy as np\n",
    "from collections import Counter"
   ]
  },
  {
   "cell_type": "code",
   "execution_count": 810,
   "metadata": {},
   "outputs": [
    {
     "data": {
      "text/plain": [
       "'data_accuracy/FIN-ACP-001.pdf'"
      ]
     },
     "execution_count": 810,
     "metadata": {},
     "output_type": "execute_result"
    }
   ],
   "source": [
    "filenames = [f for f in listdir('data_accuracy') if isfile(join('data_accuracy', f))]\n",
    "file_idx = 6\n",
    "file = 'data_accuracy/'+filenames[file_idx]\n",
    "file"
   ]
  },
  {
   "cell_type": "code",
   "execution_count": 811,
   "metadata": {},
   "outputs": [],
   "source": [
    "raw = parser.from_file(file)\n",
    "text = raw[\"content\"]"
   ]
  },
  {
   "cell_type": "code",
   "execution_count": 812,
   "metadata": {},
   "outputs": [],
   "source": [
    "keywords_names_list = ['procedure', 'process', 'sop', 'policy', 'manual', 'step']\n",
    "keywords_documents_list = ['purchase', 'order', 'form', 'request', 'invoice', 'documents', 'document', 'documentation']\n",
    "keywords_date_list = ['issued date','issue-date','effective-date', 'implementation-date','updated', 'adopted' ,'revised',\"review date\",\"revision date\",\"version\",\"last revision\",\"issued\",\"effective date\",\"date\"]"
   ]
  },
  {
   "cell_type": "code",
   "execution_count": 813,
   "metadata": {},
   "outputs": [],
   "source": [
    "information = meta_information_class.extract_meta_information(file, keywords_names_list, keywords_date_list, keywords_documents_list)\n",
    "\n",
    "information_dict = information.create_dict()\n",
    "information_df = information.create_df()"
   ]
  },
  {
   "cell_type": "code",
   "execution_count": 814,
   "metadata": {},
   "outputs": [
    {
     "data": {
      "text/html": [
       "<div>\n",
       "<style scoped>\n",
       "    .dataframe tbody tr th:only-of-type {\n",
       "        vertical-align: middle;\n",
       "    }\n",
       "\n",
       "    .dataframe tbody tr th {\n",
       "        vertical-align: top;\n",
       "    }\n",
       "\n",
       "    .dataframe thead th {\n",
       "        text-align: right;\n",
       "    }\n",
       "</style>\n",
       "<table border=\"1\" class=\"dataframe\">\n",
       "  <thead>\n",
       "    <tr style=\"text-align: right;\">\n",
       "      <th></th>\n",
       "      <th>meta information</th>\n",
       "      <th>value</th>\n",
       "      <th>count</th>\n",
       "      <th>doc</th>\n",
       "    </tr>\n",
       "  </thead>\n",
       "  <tbody>\n",
       "    <tr>\n",
       "      <th>0</th>\n",
       "      <td>name</td>\n",
       "      <td>Accounts Payable Processi</td>\n",
       "      <td>2</td>\n",
       "      <td>FIN-ACP-001.pdf</td>\n",
       "    </tr>\n",
       "    <tr>\n",
       "      <th>1</th>\n",
       "      <td>name</td>\n",
       "      <td>Accounts Payable Processing - Standard Purchas...</td>\n",
       "      <td>2</td>\n",
       "      <td>FIN-ACP-001.pdf</td>\n",
       "    </tr>\n",
       "    <tr>\n",
       "      <th>2</th>\n",
       "      <td>date</td>\n",
       "      <td>2009-09-08</td>\n",
       "      <td>None</td>\n",
       "      <td>FIN-ACP-001.pdf</td>\n",
       "    </tr>\n",
       "    <tr>\n",
       "      <th>3</th>\n",
       "      <td>date</td>\n",
       "      <td>2013-02-08</td>\n",
       "      <td>None</td>\n",
       "      <td>FIN-ACP-001.pdf</td>\n",
       "    </tr>\n",
       "    <tr>\n",
       "      <th>4</th>\n",
       "      <td>date</td>\n",
       "      <td>2021-06-01</td>\n",
       "      <td>None</td>\n",
       "      <td>FIN-ACP-001.pdf</td>\n",
       "    </tr>\n",
       "    <tr>\n",
       "      <th>5</th>\n",
       "      <td>documents</td>\n",
       "      <td>purchase order</td>\n",
       "      <td>13</td>\n",
       "      <td>FIN-ACP-001.pdf</td>\n",
       "    </tr>\n",
       "    <tr>\n",
       "      <th>6</th>\n",
       "      <td>documents</td>\n",
       "      <td>purchase orders</td>\n",
       "      <td>2</td>\n",
       "      <td>FIN-ACP-001.pdf</td>\n",
       "    </tr>\n",
       "    <tr>\n",
       "      <th>7</th>\n",
       "      <td>documents</td>\n",
       "      <td>finance documents</td>\n",
       "      <td>2</td>\n",
       "      <td>FIN-ACP-001.pdf</td>\n",
       "    </tr>\n",
       "    <tr>\n",
       "      <th>8</th>\n",
       "      <td>documents</td>\n",
       "      <td>finance documents state</td>\n",
       "      <td>2</td>\n",
       "      <td>FIN-ACP-001.pdf</td>\n",
       "    </tr>\n",
       "    <tr>\n",
       "      <th>9</th>\n",
       "      <td>documents</td>\n",
       "      <td>purchase order palm</td>\n",
       "      <td>1</td>\n",
       "      <td>FIN-ACP-001.pdf</td>\n",
       "    </tr>\n",
       "    <tr>\n",
       "      <th>10</th>\n",
       "      <td>documents</td>\n",
       "      <td>order palm beach</td>\n",
       "      <td>1</td>\n",
       "      <td>FIN-ACP-001.pdf</td>\n",
       "    </tr>\n",
       "    <tr>\n",
       "      <th>11</th>\n",
       "      <td>linked processes</td>\n",
       "      <td>None</td>\n",
       "      <td>None</td>\n",
       "      <td>FIN-ACP-001.pdf</td>\n",
       "    </tr>\n",
       "  </tbody>\n",
       "</table>\n",
       "</div>"
      ],
      "text/plain": [
       "    meta information                                              value count  \\\n",
       "0               name                          Accounts Payable Processi     2   \n",
       "1               name  Accounts Payable Processing - Standard Purchas...     2   \n",
       "2               date                                         2009-09-08  None   \n",
       "3               date                                         2013-02-08  None   \n",
       "4               date                                         2021-06-01  None   \n",
       "5          documents                                     purchase order    13   \n",
       "6          documents                                    purchase orders     2   \n",
       "7          documents                                  finance documents     2   \n",
       "8          documents                            finance documents state     2   \n",
       "9          documents                                purchase order palm     1   \n",
       "10         documents                                   order palm beach     1   \n",
       "11  linked processes                                               None  None   \n",
       "\n",
       "                doc  \n",
       "0   FIN-ACP-001.pdf  \n",
       "1   FIN-ACP-001.pdf  \n",
       "2   FIN-ACP-001.pdf  \n",
       "3   FIN-ACP-001.pdf  \n",
       "4   FIN-ACP-001.pdf  \n",
       "5   FIN-ACP-001.pdf  \n",
       "6   FIN-ACP-001.pdf  \n",
       "7   FIN-ACP-001.pdf  \n",
       "8   FIN-ACP-001.pdf  \n",
       "9   FIN-ACP-001.pdf  \n",
       "10  FIN-ACP-001.pdf  \n",
       "11  FIN-ACP-001.pdf  "
      ]
     },
     "execution_count": 814,
     "metadata": {},
     "output_type": "execute_result"
    }
   ],
   "source": [
    "information_df ['doc'] = file.replace('data_accuracy/','')\n",
    "information_df ['meta information'] = information_df ['meta information'].replace('documents (2-gram)','documents')\n",
    "information_df ['meta information'] = information_df ['meta information'].replace('documents (3-gram)','documents')\n",
    "information_df ['meta information'] = information_df ['meta information'].replace('effective date','date')\n",
    "information_df ['meta information'] = information_df ['meta information'].replace('last revision','date')\n",
    "information_df ['meta information'] = information_df ['meta information'].replace('adopted','date')\n",
    "information_df ['meta information'] = information_df ['meta information'].replace('revised','date')\n",
    "information_df ['meta information'] = information_df ['meta information'].replace('version','date')\n",
    "information_df ['meta information'] = information_df ['meta information'].replace('issued date','date')\n",
    "information_df ['meta information'] = information_df ['meta information'].replace('revision date','date')\n",
    "\n",
    "information_df"
   ]
  },
  {
   "cell_type": "code",
   "execution_count": 818,
   "metadata": {},
   "outputs": [
    {
     "data": {
      "text/plain": [
       "'FIN-ACP-001.pdf'"
      ]
     },
     "execution_count": 818,
     "metadata": {},
     "output_type": "execute_result"
    }
   ],
   "source": [
    "#extract the file name in order to get the data only relavant to the file name\n",
    "file1 =file\n",
    "file2 = file1.replace('data_accuracy/','')\n",
    "file2"
   ]
  },
  {
   "cell_type": "markdown",
   "metadata": {},
   "source": [
    "# ACCURACY"
   ]
  },
  {
   "cell_type": "code",
   "execution_count": 819,
   "metadata": {},
   "outputs": [],
   "source": [
    "def accuracy_documents():\n",
    "    accuracy_df = pd.read_csv(r'C:\\Users\\nitis\\OneDrive\\Dokumente\\GitHub\\signavio_project\\accuracy test.csv',sep=',')\n",
    "    # get only the data of the file \n",
    "    y =accuracy_df.loc[accuracy_df['doc'].isin([file2])]\n",
    "# get the rows with particular meta data\n",
    "    y =y.loc[y['meta information'].isin(['documents'])]\n",
    "    y= y.reset_index(drop=True)\n",
    "# put it in the list\n",
    "    data_manual = y['value'].to_list()\n",
    "    data_manual = [x.replace(' ', '') for x in data_manual]\n",
    "    data_manual = [each_string.lower() for each_string in data_manual]\n",
    "# count the items in the list\n",
    "    count_manual=len(data_manual)\n",
    "    a= information_df.loc[information_df['meta information'].isin(['documents'])]\n",
    "    a = a.loc[a['doc'].isin([file2])]\n",
    "    a = a.drop(['count'], axis=1)\n",
    "    a = a[[\"value\"]]\n",
    "    a= a.reset_index(drop=True)\n",
    "    list_of_x = a['value'].to_list()\n",
    "    list_of_x = [x.replace(' ', '') for x in list_of_x]\n",
    "    list_of_x = [each_string.lower() for each_string in list_of_x]\n",
    "    count_class = len(list_of_x)\n",
    "    intersectoin = list(set(data_manual) & set(list_of_x))\n",
    "    count_same = len(intersectoin)\n",
    "    accuracy = count_same/count_manual\n",
    "    return (accuracy)\n",
    "\n",
    "def accuracy_date():\n",
    "    accuracy_df = pd.read_csv(r'C:\\Users\\nitis\\OneDrive\\Dokumente\\GitHub\\signavio_project\\accuracy test.csv',sep=',')\n",
    "    # get only the data of the file \n",
    "    y =accuracy_df.loc[accuracy_df['doc'].isin([file2])]\n",
    "# get the rows with particular meta data\n",
    "    y =y.loc[y['meta information'].isin(['date'])]\n",
    "    y= y.reset_index(drop=True)\n",
    "# put it in the list\n",
    "    data_manual = y['value'].to_list()\n",
    "    data_manual = [x.replace(' ', '') for x in data_manual]\n",
    "    data_manual = [each_string.lower() for each_string in data_manual]\n",
    "# count the items in the list\n",
    "    count_manual=len(data_manual)\n",
    "    a= information_df.loc[information_df['meta information'].isin(['date'])]\n",
    "    a = a.loc[a['doc'].isin([file2])]\n",
    "    a = a.drop(['count'], axis=1)\n",
    "    a = a[[\"value\"]]\n",
    "    a= a.reset_index(drop=True)\n",
    "    list_of_x = a['value'].to_list()\n",
    "    list_of_x = [x.replace(' ', '') for x in list_of_x]\n",
    "    list_of_x = [each_string.lower() for each_string in list_of_x]\n",
    "    count_class = len(list_of_x)\n",
    "    intersectoin = list(set(data_manual) & set(list_of_x))\n",
    "    count_same = len(intersectoin)\n",
    "    accuracy = count_same/count_manual\n",
    "    return (accuracy)\n",
    "\n",
    "def linked_processess():\n",
    "    accuracy_df = pd.read_csv(r'C:\\Users\\nitis\\OneDrive\\Dokumente\\GitHub\\signavio_project\\accuracy test.csv',sep=',')\n",
    "    # get only the data of the file \n",
    "    y =accuracy_df.loc[accuracy_df['doc'].isin([file2])]\n",
    "# get the rows with particular meta data\n",
    "    y =y.loc[y['meta information'].isin(['linked processes'])]\n",
    "    y= y.reset_index(drop=True)\n",
    "# put it in the list\n",
    "    data_manual = y['value'].to_list()\n",
    "    data_manual = [x.replace(' ', '') for x in data_manual]\n",
    "    data_manual = [each_string.lower() for each_string in data_manual]\n",
    "# count the items in the list\n",
    "    count_manual=len(data_manual)\n",
    "    a= information_df.loc[information_df['meta information'].isin(['linked processes'])]\n",
    "    a = a.loc[a['doc'].isin([file2])]\n",
    "    a = a.drop(['count'], axis=1)\n",
    "    a = a[[\"value\"]]\n",
    "    a= a.reset_index(drop=True)\n",
    "    list_of_x = a['value'].to_list()\n",
    "    list_of_x = [x.replace(' ', '') for x in list_of_x]\n",
    "    list_of_x = [each_string.lower() for each_string in list_of_x]\n",
    "    count_class = len(list_of_x)\n",
    "    intersectoin = list(set(data_manual) & set(list_of_x))\n",
    "    count_same = len(intersectoin)\n",
    "    accuracy = count_same/count_manual\n",
    "    return (accuracy)\n",
    "\n",
    "def name():\n",
    "    accuracy_df = pd.read_csv(r'C:\\Users\\nitis\\OneDrive\\Dokumente\\GitHub\\signavio_project\\accuracy test.csv',sep=',')\n",
    "    # get only the data of the file \n",
    "    y =accuracy_df.loc[accuracy_df['doc'].isin([file2])]\n",
    "# get the rows with particular meta data\n",
    "    y =y.loc[y['meta information'].isin(['name'])]\n",
    "    y= y.reset_index(drop=True)\n",
    "# put it in the list\n",
    "    data_manual = y['value'].to_list()\n",
    "    data_manual = [x.replace(' ', '') for x in data_manual]\n",
    "    data_manual = [each_string.lower() for each_string in data_manual]\n",
    "# count the items in the list\n",
    "    count_manual=len(data_manual)\n",
    "    a= information_df.loc[information_df['meta information'].isin(['name'])]\n",
    "    a = a.loc[a['doc'].isin([file2])]\n",
    "    a = a.drop(['count'], axis=1)\n",
    "    a = a[[\"value\"]]\n",
    "    a= a.reset_index(drop=True)\n",
    "    list_of_x = a['value'].to_list()\n",
    "    list_of_x = [x.replace(' ', '') for x in list_of_x]\n",
    "    list_of_x = [each_string.lower() for each_string in list_of_x]\n",
    "    count_class = len(list_of_x)\n",
    "    intersectoin = list(set(data_manual) & set(list_of_x))\n",
    "    count_same = len(intersectoin)\n",
    "    accuracy = count_same/count_manual\n",
    "    return (accuracy)\n",
    "\n"
   ]
  },
  {
   "cell_type": "code",
   "execution_count": 820,
   "metadata": {},
   "outputs": [
    {
     "data": {
      "text/plain": [
       "0.0"
      ]
     },
     "execution_count": 820,
     "metadata": {},
     "output_type": "execute_result"
    }
   ],
   "source": [
    "linked_processess()"
   ]
  },
  {
   "cell_type": "code",
   "execution_count": 821,
   "metadata": {},
   "outputs": [
    {
     "data": {
      "text/plain": [
       "0.6666666666666666"
      ]
     },
     "execution_count": 821,
     "metadata": {},
     "output_type": "execute_result"
    }
   ],
   "source": [
    "accuracy_date()"
   ]
  },
  {
   "cell_type": "code",
   "execution_count": 822,
   "metadata": {},
   "outputs": [
    {
     "data": {
      "text/plain": [
       "0.3333333333333333"
      ]
     },
     "execution_count": 822,
     "metadata": {},
     "output_type": "execute_result"
    }
   ],
   "source": [
    "accuracy_documents()"
   ]
  },
  {
   "cell_type": "code",
   "execution_count": 823,
   "metadata": {},
   "outputs": [
    {
     "data": {
      "text/plain": [
       "1.0"
      ]
     },
     "execution_count": 823,
     "metadata": {},
     "output_type": "execute_result"
    }
   ],
   "source": [
    "name()"
   ]
  },
  {
   "cell_type": "code",
   "execution_count": null,
   "metadata": {},
   "outputs": [],
   "source": []
  },
  {
   "cell_type": "code",
   "execution_count": null,
   "metadata": {},
   "outputs": [],
   "source": []
  }
 ],
 "metadata": {
  "kernelspec": {
   "display_name": "Python 3",
   "language": "python",
   "name": "python3"
  },
  "language_info": {
   "codemirror_mode": {
    "name": "ipython",
    "version": 3
   },
   "file_extension": ".py",
   "mimetype": "text/x-python",
   "name": "python",
   "nbconvert_exporter": "python",
   "pygments_lexer": "ipython3",
   "version": "3.8.5"
  }
 },
 "nbformat": 4,
 "nbformat_minor": 4
}
