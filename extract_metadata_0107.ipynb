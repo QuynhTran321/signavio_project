{
 "cells": [
  {
   "cell_type": "markdown",
   "metadata": {
    "slideshow": {
     "slide_type": "slide"
    }
   },
   "source": [
    "## Extract Meta Information from Documents"
   ]
  },
  {
   "cell_type": "markdown",
   "metadata": {
    "slideshow": {
     "slide_type": "subslide"
    }
   },
   "source": [
    "### Import packages and class"
   ]
  },
  {
   "cell_type": "code",
   "execution_count": 1,
   "metadata": {
    "slideshow": {
     "slide_type": "fragment"
    }
   },
   "outputs": [],
   "source": [
    "from os import listdir\n",
    "from os.path import isfile, join\n",
    "from tabulate import tabulate\n",
    "from tika import parser \n",
    "import pprint\n",
    "\n",
    "import meta_information_class"
   ]
  },
  {
   "cell_type": "markdown",
   "metadata": {
    "slideshow": {
     "slide_type": "fragment"
    }
   },
   "source": [
    "### Read filename of pdfs from directory and choose file"
   ]
  },
  {
   "cell_type": "code",
   "execution_count": 2,
   "metadata": {
    "slideshow": {
     "slide_type": "fragment"
    }
   },
   "outputs": [
    {
     "data": {
      "text/plain": [
       "'data/04_SOP-Business-Plan.pdf'"
      ]
     },
     "execution_count": 2,
     "metadata": {},
     "output_type": "execute_result"
    }
   ],
   "source": [
    "filenames = [f for f in listdir('data') if isfile(join('data', f))]\n",
    "\n",
    "file_idx = 3\n",
    "file = 'data/'+filenames[file_idx]\n",
    "file"
   ]
  },
  {
   "cell_type": "markdown",
   "metadata": {
    "slideshow": {
     "slide_type": "fragment"
    }
   },
   "source": [
    "### Apply file parser"
   ]
  },
  {
   "cell_type": "code",
   "execution_count": 3,
   "metadata": {
    "slideshow": {
     "slide_type": "fragment"
    }
   },
   "outputs": [],
   "source": [
    "raw = parser.from_file(file)\n",
    "text = raw[\"content\"]"
   ]
  },
  {
   "cell_type": "markdown",
   "metadata": {
    "slideshow": {
     "slide_type": "fragment"
    }
   },
   "source": [
    "### Extract meta information from document"
   ]
  },
  {
   "cell_type": "code",
   "execution_count": 4,
   "metadata": {
    "slideshow": {
     "slide_type": "fragment"
    }
   },
   "outputs": [],
   "source": [
    "information = meta_information_class.extract_meta_information(file)\n",
    "\n",
    "information_dict = information.create_dict()\n",
    "information_df = information.create_df()"
   ]
  },
  {
   "cell_type": "markdown",
   "metadata": {
    "slideshow": {
     "slide_type": "subslide"
    }
   },
   "source": [
    "### Output as dictionary"
   ]
  },
  {
   "cell_type": "code",
   "execution_count": 5,
   "metadata": {
    "slideshow": {
     "slide_type": "fragment"
    }
   },
   "outputs": [
    {
     "name": "stdout",
     "output_type": "stream",
     "text": [
      "{'date': [('date', '2014-02-28')],\n",
      " 'description': ['this procedure is specifically aimed to organize the steps '\n",
      "                 'in business planning activity for one stop shop sanitation '\n",
      "                 'services, so that they can be implemented consistently and '\n",
      "                 'well-planned according to the target. this is the fourth '\n",
      "                 'part of a complete sop files which are aimed as references '\n",
      "                 'used by the entrepreneur (including sanitarian who wants to '\n",
      "                 'be or are working as an entrepreneur in sanitation '\n",
      "                 'business), which consist of several sop documents as follow: '\n",
      "                 'business process map of one stop shop sanitation services as '\n",
      "                 'a simple visualization of the whole process flow of this '\n",
      "                 'sanitation business (filename:@2 business process map one '\n",
      "                 'stop shop sanitation.pdf) the first part of sop that '\n",
      "                 'explains procedures of one-stop shop sanitation services '\n",
      "                 'from developing social map, triggering and product '\n",
      "                 'introduction until order processing (filename:01_sop one '\n",
      "                 'shop sanitation social map until order.docx). the second '\n",
      "                 'part of sop that explains procedures of one-stop shop '\n",
      "                 'sanitation services from receiving order, materials '\n",
      "                 'preparation, construction, until handover (filename:02_sop '\n",
      "                 'one shop sanitation wsp construction.docx). the third part '\n",
      "                 'of sop that explains procedures of one-stop shop sanitation '\n",
      "                 'services on how an entrepreneur and the customers could '\n",
      "                 'select different type of payment methods until the final '\n",
      "                 'payment process (filename:03_sop one shop sanitation wsp '\n",
      "                 'payment.docx). the first, second, and third part of sop are '\n",
      "                 'part of the business cycle while the forth part of sop is '\n",
      "                 'the process that need to be done prior to starting the '\n",
      "                 'business. the fourth part of sop that explains procedures of '\n",
      "                 'one-stop shop sanitation services for a new entrepreneur to '\n",
      "                 'prepare the sanitation business. this sop is a prerequisite '\n",
      "                 'for starting a new business, which means in term of value '\n",
      "                 'stream this sop is not part of the common business process '\n",
      "                 'map cycle (filename: 04_sop business plan.docx). as an sop, '\n",
      "                 'in general these documents are considered the best the '\n",
      "                 'process that are performed today, hence these documents '\n",
      "                 'should be revised and updated to keep up with the latest '\n",
      "                 'practices and technology. standard operating procedure '\n",
      "                 'number sop-ind-appsani-004 revision 2 one stop shop '\n",
      "                 'sanitation service (business plan development) date february '\n",
      "                 '28. 2014 page 2of12'],\n",
      " 'documents (bigrams)': [('projection form', 12),\n",
      "                         ('form attachment', 5),\n",
      "                         ('plan form', 3)],\n",
      " 'documents (trigrams)': [('flow projection form', 4),\n",
      "                          ('business plan form', 3),\n",
      "                          ('cost projection form', 3)],\n",
      " 'linked processes': ['8. RELATED DOCUMENTS ',\n",
      "                      '8.1. Sanitation Business Plan Form ',\n",
      "                      '8.2. Market Analysis Form ',\n",
      "                      '8.3. Market Segmentation Form ',\n",
      "                      '8.4. Competitor Analysis Form ',\n",
      "                      '8.5. Promotion Form ',\n",
      "                      '8.6. Cost of Goods Manufactured Form ',\n",
      "                      '8.7. Production Capacity Form ',\n",
      "                      '8.8. Sales Projection Form ',\n",
      "                      '8.9. Operational Cost Projection Form ',\n",
      "                      '8.10. Cash Flow Projection Form ',\n",
      "                      '8.11. Profit and Loss Projection Form ',\n",
      "                      '8.12. Business Initial Capital Form ',\n",
      "                      '8.13. Capital Source Form '],\n",
      " 'name': [('STANDARD OPERATING PROCEDURE', 2)]}\n"
     ]
    }
   ],
   "source": [
    "pprint.pprint(information_dict)"
   ]
  },
  {
   "cell_type": "markdown",
   "metadata": {
    "slideshow": {
     "slide_type": "subslide"
    }
   },
   "source": [
    "### Output as dataframe"
   ]
  },
  {
   "cell_type": "code",
   "execution_count": 6,
   "metadata": {},
   "outputs": [
    {
     "data": {
      "text/html": [
       "<div>\n",
       "<style scoped>\n",
       "    .dataframe tbody tr th:only-of-type {\n",
       "        vertical-align: middle;\n",
       "    }\n",
       "\n",
       "    .dataframe tbody tr th {\n",
       "        vertical-align: top;\n",
       "    }\n",
       "\n",
       "    .dataframe thead th {\n",
       "        text-align: right;\n",
       "    }\n",
       "</style>\n",
       "<table border=\"1\" class=\"dataframe\">\n",
       "  <thead>\n",
       "    <tr style=\"text-align: right;\">\n",
       "      <th></th>\n",
       "      <th>meta information</th>\n",
       "      <th>value</th>\n",
       "      <th>count</th>\n",
       "    </tr>\n",
       "  </thead>\n",
       "  <tbody>\n",
       "    <tr>\n",
       "      <th>0</th>\n",
       "      <td>name</td>\n",
       "      <td>STANDARD OPERATING PROCEDURE</td>\n",
       "      <td>2</td>\n",
       "    </tr>\n",
       "    <tr>\n",
       "      <th>1</th>\n",
       "      <td>date</td>\n",
       "      <td>2014-02-28</td>\n",
       "      <td>None</td>\n",
       "    </tr>\n",
       "    <tr>\n",
       "      <th>2</th>\n",
       "      <td>description</td>\n",
       "      <td>this procedure is specifically aimed to organi...</td>\n",
       "      <td>None</td>\n",
       "    </tr>\n",
       "    <tr>\n",
       "      <th>3</th>\n",
       "      <td>documents (2-gram)</td>\n",
       "      <td>projection form</td>\n",
       "      <td>12</td>\n",
       "    </tr>\n",
       "    <tr>\n",
       "      <th>4</th>\n",
       "      <td>documents (2-gram)</td>\n",
       "      <td>form attachment</td>\n",
       "      <td>5</td>\n",
       "    </tr>\n",
       "    <tr>\n",
       "      <th>5</th>\n",
       "      <td>documents (2-gram)</td>\n",
       "      <td>plan form</td>\n",
       "      <td>3</td>\n",
       "    </tr>\n",
       "    <tr>\n",
       "      <th>6</th>\n",
       "      <td>documents (3-gram)</td>\n",
       "      <td>flow projection form</td>\n",
       "      <td>4</td>\n",
       "    </tr>\n",
       "    <tr>\n",
       "      <th>7</th>\n",
       "      <td>documents (3-gram)</td>\n",
       "      <td>business plan form</td>\n",
       "      <td>3</td>\n",
       "    </tr>\n",
       "    <tr>\n",
       "      <th>8</th>\n",
       "      <td>documents (3-gram)</td>\n",
       "      <td>cost projection form</td>\n",
       "      <td>3</td>\n",
       "    </tr>\n",
       "    <tr>\n",
       "      <th>9</th>\n",
       "      <td>linked processes</td>\n",
       "      <td>8. RELATED DOCUMENTS</td>\n",
       "      <td>None</td>\n",
       "    </tr>\n",
       "    <tr>\n",
       "      <th>10</th>\n",
       "      <td>linked processes</td>\n",
       "      <td>8.1. Sanitation Business Plan Form</td>\n",
       "      <td>None</td>\n",
       "    </tr>\n",
       "    <tr>\n",
       "      <th>11</th>\n",
       "      <td>linked processes</td>\n",
       "      <td>8.2. Market Analysis Form</td>\n",
       "      <td>None</td>\n",
       "    </tr>\n",
       "    <tr>\n",
       "      <th>12</th>\n",
       "      <td>linked processes</td>\n",
       "      <td>8.3. Market Segmentation Form</td>\n",
       "      <td>None</td>\n",
       "    </tr>\n",
       "    <tr>\n",
       "      <th>13</th>\n",
       "      <td>linked processes</td>\n",
       "      <td>8.4. Competitor Analysis Form</td>\n",
       "      <td>None</td>\n",
       "    </tr>\n",
       "    <tr>\n",
       "      <th>14</th>\n",
       "      <td>linked processes</td>\n",
       "      <td>8.5. Promotion Form</td>\n",
       "      <td>None</td>\n",
       "    </tr>\n",
       "    <tr>\n",
       "      <th>15</th>\n",
       "      <td>linked processes</td>\n",
       "      <td>8.6. Cost of Goods Manufactured Form</td>\n",
       "      <td>None</td>\n",
       "    </tr>\n",
       "    <tr>\n",
       "      <th>16</th>\n",
       "      <td>linked processes</td>\n",
       "      <td>8.7. Production Capacity Form</td>\n",
       "      <td>None</td>\n",
       "    </tr>\n",
       "    <tr>\n",
       "      <th>17</th>\n",
       "      <td>linked processes</td>\n",
       "      <td>8.8. Sales Projection Form</td>\n",
       "      <td>None</td>\n",
       "    </tr>\n",
       "    <tr>\n",
       "      <th>18</th>\n",
       "      <td>linked processes</td>\n",
       "      <td>8.9. Operational Cost Projection Form</td>\n",
       "      <td>None</td>\n",
       "    </tr>\n",
       "    <tr>\n",
       "      <th>19</th>\n",
       "      <td>linked processes</td>\n",
       "      <td>8.10. Cash Flow Projection Form</td>\n",
       "      <td>None</td>\n",
       "    </tr>\n",
       "    <tr>\n",
       "      <th>20</th>\n",
       "      <td>linked processes</td>\n",
       "      <td>8.11. Profit and Loss Projection Form</td>\n",
       "      <td>None</td>\n",
       "    </tr>\n",
       "    <tr>\n",
       "      <th>21</th>\n",
       "      <td>linked processes</td>\n",
       "      <td>8.12. Business Initial Capital Form</td>\n",
       "      <td>None</td>\n",
       "    </tr>\n",
       "    <tr>\n",
       "      <th>22</th>\n",
       "      <td>linked processes</td>\n",
       "      <td>8.13. Capital Source Form</td>\n",
       "      <td>None</td>\n",
       "    </tr>\n",
       "  </tbody>\n",
       "</table>\n",
       "</div>"
      ],
      "text/plain": [
       "      meta information                                              value  \\\n",
       "0                 name                       STANDARD OPERATING PROCEDURE   \n",
       "1                 date                                         2014-02-28   \n",
       "2          description  this procedure is specifically aimed to organi...   \n",
       "3   documents (2-gram)                                    projection form   \n",
       "4   documents (2-gram)                                    form attachment   \n",
       "5   documents (2-gram)                                          plan form   \n",
       "6   documents (3-gram)                               flow projection form   \n",
       "7   documents (3-gram)                                 business plan form   \n",
       "8   documents (3-gram)                               cost projection form   \n",
       "9     linked processes                              8. RELATED DOCUMENTS    \n",
       "10    linked processes                8.1. Sanitation Business Plan Form    \n",
       "11    linked processes                         8.2. Market Analysis Form    \n",
       "12    linked processes                     8.3. Market Segmentation Form    \n",
       "13    linked processes                     8.4. Competitor Analysis Form    \n",
       "14    linked processes                               8.5. Promotion Form    \n",
       "15    linked processes              8.6. Cost of Goods Manufactured Form    \n",
       "16    linked processes                     8.7. Production Capacity Form    \n",
       "17    linked processes                        8.8. Sales Projection Form    \n",
       "18    linked processes             8.9. Operational Cost Projection Form    \n",
       "19    linked processes                   8.10. Cash Flow Projection Form    \n",
       "20    linked processes             8.11. Profit and Loss Projection Form    \n",
       "21    linked processes               8.12. Business Initial Capital Form    \n",
       "22    linked processes                         8.13. Capital Source Form    \n",
       "\n",
       "   count  \n",
       "0      2  \n",
       "1   None  \n",
       "2   None  \n",
       "3     12  \n",
       "4      5  \n",
       "5      3  \n",
       "6      4  \n",
       "7      3  \n",
       "8      3  \n",
       "9   None  \n",
       "10  None  \n",
       "11  None  \n",
       "12  None  \n",
       "13  None  \n",
       "14  None  \n",
       "15  None  \n",
       "16  None  \n",
       "17  None  \n",
       "18  None  \n",
       "19  None  \n",
       "20  None  \n",
       "21  None  \n",
       "22  None  "
      ]
     },
     "execution_count": 6,
     "metadata": {},
     "output_type": "execute_result"
    }
   ],
   "source": [
    "information_df"
   ]
  },
  {
   "cell_type": "code",
   "execution_count": null,
   "metadata": {},
   "outputs": [],
   "source": []
  },
  {
   "cell_type": "code",
   "execution_count": null,
   "metadata": {},
   "outputs": [],
   "source": []
  }
 ],
 "metadata": {
  "kernelspec": {
   "display_name": "Python 3",
   "language": "python",
   "name": "python3"
  },
  "language_info": {
   "codemirror_mode": {
    "name": "ipython",
    "version": 3
   },
   "file_extension": ".py",
   "mimetype": "text/x-python",
   "name": "python",
   "nbconvert_exporter": "python",
   "pygments_lexer": "ipython3",
   "version": "3.8.5"
  }
 },
 "nbformat": 4,
 "nbformat_minor": 4
}
