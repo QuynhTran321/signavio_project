{
 "cells": [
  {
   "cell_type": "markdown",
   "metadata": {
    "slideshow": {
     "slide_type": "slide"
    }
   },
   "source": [
    "## Extract Meta Information from Documents"
   ]
  },
  {
   "cell_type": "markdown",
   "metadata": {
    "slideshow": {
     "slide_type": "subslide"
    }
   },
   "source": [
    "### Import packages and class"
   ]
  },
  {
   "cell_type": "code",
   "execution_count": 1,
   "metadata": {
    "slideshow": {
     "slide_type": "fragment"
    }
   },
   "outputs": [],
   "source": [
    "from os import listdir\n",
    "from os.path import isfile, join\n",
    "from tabulate import tabulate\n",
    "from tika import parser \n",
    "import pprint\n",
    "\n",
    "import meta_information_class"
   ]
  },
  {
   "cell_type": "markdown",
   "metadata": {
    "slideshow": {
     "slide_type": "fragment"
    }
   },
   "source": [
    "### Read filename of pdfs from directory and choose file"
   ]
  },
  {
   "cell_type": "code",
   "execution_count": 35,
   "metadata": {
    "slideshow": {
     "slide_type": "fragment"
    }
   },
   "outputs": [],
   "source": [
    "filenames = [f for f in listdir('data') if isfile(join('data', f))]\n",
    "\n",
    "file_idx = 2\n",
    "file = 'data/'+filenames[file_idx]\n",
    "file = \"data/3 Marcus Institute Purchasing Policy _ Procedure 1.31.19 For FY19(1).pdf\"\n",
    "file = \"data/application-process-bbw-hochschule.pdf\""
   ]
  },
  {
   "cell_type": "markdown",
   "metadata": {
    "slideshow": {
     "slide_type": "fragment"
    }
   },
   "source": [
    "### Apply file parser"
   ]
  },
  {
   "cell_type": "code",
   "execution_count": 36,
   "metadata": {
    "slideshow": {
     "slide_type": "fragment"
    }
   },
   "outputs": [],
   "source": [
    "raw = parser.from_file(file)\n",
    "text = raw[\"content\"]"
   ]
  },
  {
   "cell_type": "code",
   "execution_count": 37,
   "metadata": {},
   "outputs": [
    {
     "data": {
      "text/plain": [
       "'\\n\\n\\n\\n\\n\\n\\n\\n\\n\\n\\n\\n\\n\\n\\n\\n\\n\\n\\n\\n\\n\\n\\n\\n\\n\\n\\n\\n\\n\\n\\n\\n\\n\\n\\n\\n\\n\\n\\n\\n\\n\\n\\n\\n\\n\\n\\n  www.bbw-hochschule.de  \\n\\n1.  Registration  \\nWith one click on the button Register now or by entering the URL bbw-application.academyfive.net \\ninto your web browser, you can access our online application tool. Please fill out the form completely. \\n After that, you will receive an e-mail with all further information on how to activate your account.  \\nPlease notice that we require an application fee of 150 Euros from non-EU citizens to be able to \\nevaluate your documents.\\n\\n2.  Selection of the Study Programme  \\nNow log in to your account. Then select your desired degree and your desired study programme.\\n\\n3.  Personal Details  \\nIn the following steps some personal data and information on your career are requested under \\nProfile Data and Career. Please fill in the information completely. Of course you can save your \\napplication at any time and continue later.\\n\\n4.  Document Upload  \\nIn the next step, upload a picture for your student ID and your documents for checking your  \\nuniversity entrance qualification. \\n \\nTip: Have all documents prepared before starting your application:\\n \\nFor all applicants: \\n\\n  Curriculum vitae in tabular form\\n  Health insurance certificate (full-time study only)\\n  Copy of passport or ID\\n   Language certificate for international applicants:  \\nC1 German for study programmes in German, \\nB2 English for study programmes in English\\n\\n   A certified copy of final school certificate equivalent to the  \\nGerman higher education entrance qualification*  \\n\\n5.  Complete the Application \\nCheck your application for correctness and completeness before sending us your application \\ndocuments. You will then receive an email regarding the payment of the application fee.  \\nAs soon as we receive your application fee, we will send you a confirmation of payment and the \\nstudy contract.\\n\\n6.  Study Contract \\n Please fill out the study contract you received and send it via email to  \\ninternational@bbw-hochchule.de \\n \\nWith the receipt of your signed study contract form, you submit a binding offer to bbw Hochschule \\nto conclude a study contract that is subject to payment. Your application will then be reviewed.  \\nIf your documents are complete and sufficient to study at our university, you will receive the  \\nconfirmation of registration via email. According to the legal regulations you can only revoke \\nthe contract free of charge for 14 days. Please download our cancellation form in the download \\nsection.\\n\\nAdditonal for master applicants: \\n   A certified copy of qualifying undergraduate \\ndegree from a state or state-certified institution \\nof higher education*\\n\\n   Transcript of records/mark sheets\\n\\n*  bbw Hochschule provides free certification of original \\ndocuments\\n\\nOur Application Process\\nYou have decided for a study programme and would like to apply at bbw Hochschule –  \\nUniversity of Applied Sciences? In just a few steps, you can submit your online application.\\n\\nYou can check the status of your application at any time. To do so, log in again with  \\nyour access data and click on the degree programme for which you have applied.\\uf05a\\n\\n\\n'"
      ]
     },
     "execution_count": 37,
     "metadata": {},
     "output_type": "execute_result"
    }
   ],
   "source": [
    "text"
   ]
  },
  {
   "cell_type": "markdown",
   "metadata": {
    "slideshow": {
     "slide_type": "fragment"
    }
   },
   "source": [
    "### Extract meta information from document"
   ]
  },
  {
   "cell_type": "code",
   "execution_count": 33,
   "metadata": {
    "slideshow": {
     "slide_type": "fragment"
    }
   },
   "outputs": [],
   "source": [
    "information = meta_information_class.extract_meta_information(file)\n",
    "\n",
    "information_dict = information.create_dict()\n",
    "information_df = information.create_df()"
   ]
  },
  {
   "cell_type": "markdown",
   "metadata": {
    "slideshow": {
     "slide_type": "subslide"
    }
   },
   "source": [
    "### Output as dictionary"
   ]
  },
  {
   "cell_type": "code",
   "execution_count": 34,
   "metadata": {
    "slideshow": {
     "slide_type": "fragment"
    }
   },
   "outputs": [
    {
     "name": "stdout",
     "output_type": "stream",
     "text": [
      "{'date': [('effective date', '2019-01-31')],\n",
      " 'description': [],\n",
      " 'documents (bigrams)': [('purchase order', 8),\n",
      "                         ('order form', 6),\n",
      "                         ('request form', 3),\n",
      "                         ('invoice purchase', 3),\n",
      "                         ('card order', 3),\n",
      "                         ('order bidding', 2),\n",
      "                         ('payment invoice', 2),\n",
      "                         ('purchase request', 2),\n",
      "                         ('purchase orders', 1),\n",
      "                         ('order policy', 1),\n",
      "                         ('purchase requisitions', 1),\n",
      "                         ('vendor request', 1),\n",
      "                         ('order supplies', 1),\n",
      "                         ('po documents', 1),\n",
      "                         ('card purchase', 1),\n",
      "                         ('order center', 1),\n",
      "                         ('documents system', 1)],\n",
      " 'documents (trigrams)': [('purchase order form', 3),\n",
      "                          ('credit card order', 3),\n",
      "                          ('card order form', 3),\n",
      "                          ('purchase order bidding', 2),\n",
      "                          ('order bidding policy', 2),\n",
      "                          ('invoice purchase order', 2),\n",
      "                          ('purchase request form', 2),\n",
      "                          ('purchase orders pos', 1),\n",
      "                          ('purchase order policy', 1),\n",
      "                          ('order policy statement', 1),\n",
      "                          ('statement in order', 1),\n",
      "                          ('vendor request form', 1),\n",
      "                          ('invoice purchase request', 1),\n",
      "                          ('purchase order supplies', 1),\n",
      "                          ('credit card purchase', 1),\n",
      "                          ('purchase in cases', 1),\n",
      "                          ('order center director', 1)],\n",
      " 'linked processes': [None],\n",
      " 'name': [('3 Purchasing & Accounts Payable Policy & Procedures', 3)]}\n"
     ]
    }
   ],
   "source": [
    "pprint.pprint(information_dict)"
   ]
  },
  {
   "cell_type": "markdown",
   "metadata": {
    "slideshow": {
     "slide_type": "subslide"
    }
   },
   "source": [
    "### Output as dataframe"
   ]
  },
  {
   "cell_type": "code",
   "execution_count": 24,
   "metadata": {},
   "outputs": [
    {
     "data": {
      "text/html": [
       "<div>\n",
       "<style scoped>\n",
       "    .dataframe tbody tr th:only-of-type {\n",
       "        vertical-align: middle;\n",
       "    }\n",
       "\n",
       "    .dataframe tbody tr th {\n",
       "        vertical-align: top;\n",
       "    }\n",
       "\n",
       "    .dataframe thead th {\n",
       "        text-align: right;\n",
       "    }\n",
       "</style>\n",
       "<table border=\"1\" class=\"dataframe\">\n",
       "  <thead>\n",
       "    <tr style=\"text-align: right;\">\n",
       "      <th></th>\n",
       "      <th>meta information</th>\n",
       "      <th>value</th>\n",
       "      <th>count</th>\n",
       "    </tr>\n",
       "  </thead>\n",
       "  <tbody>\n",
       "    <tr>\n",
       "      <th>0</th>\n",
       "      <td>name</td>\n",
       "      <td>System Process</td>\n",
       "      <td>1</td>\n",
       "    </tr>\n",
       "    <tr>\n",
       "      <th>1</th>\n",
       "      <td>name</td>\n",
       "      <td>link you want to apply for.</td>\n",
       "      <td>1</td>\n",
       "    </tr>\n",
       "    <tr>\n",
       "      <th>2</th>\n",
       "      <td>name</td>\n",
       "      <td>Department</td>\n",
       "      <td>1</td>\n",
       "    </tr>\n",
       "    <tr>\n",
       "      <th>3</th>\n",
       "      <td>documents (2-gram)</td>\n",
       "      <td>process document</td>\n",
       "      <td>33</td>\n",
       "    </tr>\n",
       "    <tr>\n",
       "      <th>4</th>\n",
       "      <td>documents (2-gram)</td>\n",
       "      <td>application form</td>\n",
       "      <td>33</td>\n",
       "    </tr>\n",
       "    <tr>\n",
       "      <th>5</th>\n",
       "      <td>documents (2-gram)</td>\n",
       "      <td>documentation steps</td>\n",
       "      <td>1</td>\n",
       "    </tr>\n",
       "    <tr>\n",
       "      <th>6</th>\n",
       "      <td>documents (2-gram)</td>\n",
       "      <td>document step</td>\n",
       "      <td>1</td>\n",
       "    </tr>\n",
       "    <tr>\n",
       "      <th>7</th>\n",
       "      <td>documents (3-gram)</td>\n",
       "      <td>system process document</td>\n",
       "      <td>33</td>\n",
       "    </tr>\n",
       "    <tr>\n",
       "      <th>8</th>\n",
       "      <td>linked processes</td>\n",
       "      <td>None</td>\n",
       "      <td>None</td>\n",
       "    </tr>\n",
       "  </tbody>\n",
       "</table>\n",
       "</div>"
      ],
      "text/plain": [
       "     meta information                        value count\n",
       "0                name               System Process     1\n",
       "1                name  link you want to apply for.     1\n",
       "2                name                   Department     1\n",
       "3  documents (2-gram)             process document    33\n",
       "4  documents (2-gram)             application form    33\n",
       "5  documents (2-gram)          documentation steps     1\n",
       "6  documents (2-gram)                document step     1\n",
       "7  documents (3-gram)      system process document    33\n",
       "8    linked processes                         None  None"
      ]
     },
     "execution_count": 24,
     "metadata": {},
     "output_type": "execute_result"
    }
   ],
   "source": [
    "information_df"
   ]
  },
  {
   "cell_type": "code",
   "execution_count": null,
   "metadata": {},
   "outputs": [],
   "source": []
  }
 ],
 "metadata": {
  "kernelspec": {
   "display_name": "Python 3",
   "language": "python",
   "name": "python3"
  },
  "language_info": {
   "codemirror_mode": {
    "name": "ipython",
    "version": 3
   },
   "file_extension": ".py",
   "mimetype": "text/x-python",
   "name": "python",
   "nbconvert_exporter": "python",
   "pygments_lexer": "ipython3",
   "version": "3.8.5"
  }
 },
 "nbformat": 4,
 "nbformat_minor": 4
}
