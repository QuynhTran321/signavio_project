{
 "cells": [
  {
   "cell_type": "markdown",
   "metadata": {
    "slideshow": {
     "slide_type": "subslide"
    }
   },
   "source": [
    "\n",
    "<center><img src=\"logo.png\"/></center>\n",
    "\n"
   ]
  },
  {
   "cell_type": "markdown",
   "metadata": {
    "slideshow": {
     "slide_type": "subslide"
    }
   },
   "source": [
    "### Import packages and class"
   ]
  },
  {
   "cell_type": "code",
   "execution_count": 1,
   "metadata": {
    "slideshow": {
     "slide_type": "fragment"
    }
   },
   "outputs": [],
   "source": [
    "import meta_information_class # our package \n",
    "from os import listdir\n",
    "from os.path import isfile, join\n",
    "import pprint # for nice formatting\n",
    "from collections import OrderedDict # for nice formatting"
   ]
  },
  {
   "cell_type": "markdown",
   "metadata": {
    "slideshow": {
     "slide_type": "subslide"
    }
   },
   "source": [
    "### Choose document "
   ]
  },
  {
   "cell_type": "code",
   "execution_count": 2,
   "metadata": {
    "slideshow": {
     "slide_type": "fragment"
    }
   },
   "outputs": [],
   "source": [
    "folder = 'data/'\n",
    "files = [f for f in listdir(folder) if isfile(join(folder, f))]\n",
    "file_idx = 1\n",
    "pdf = folder+files[file_idx]"
   ]
  },
  {
   "cell_type": "markdown",
   "metadata": {
    "slideshow": {
     "slide_type": "subslide"
    }
   },
   "source": [
    "### Extract meta information from document"
   ]
  },
  {
   "cell_type": "code",
   "execution_count": 3,
   "metadata": {
    "slideshow": {
     "slide_type": "fragment"
    }
   },
   "outputs": [],
   "source": [
    "information = meta_information_class.extract_meta_information(pdf)\n",
    "\n",
    "information_dict = information.create_dict()\n",
    "information_df = information.create_df()"
   ]
  },
  {
   "cell_type": "markdown",
   "metadata": {
    "slideshow": {
     "slide_type": "subslide"
    }
   },
   "source": [
    "### Output as dictionary"
   ]
  },
  {
   "cell_type": "code",
   "execution_count": 4,
   "metadata": {
    "slideshow": {
     "slide_type": "fragment"
    }
   },
   "outputs": [
    {
     "name": "stdout",
     "output_type": "stream",
     "text": [
      "OrderedDict([('name',\n",
      "              [('QUANTIFICATION AND FORECASTING PROCEDURES', 1),\n",
      "               ('NUTRITION SUPPLY CHAIN MANAGEMENT', 1)]),\n",
      "             ('date', [('date', '2018-05-03'), ('date', '2018-06-13')]),\n",
      "             ('departments',\n",
      "              [('SAM', 14),\n",
      "               ('NAME', 13),\n",
      "               ('PND', 12),\n",
      "               ('SOP', 7),\n",
      "               ('Standard Operating Procedure', 7),\n",
      "               ('nut', 6),\n",
      "               ('Review', 5),\n",
      "               ('Denominator Total', 5),\n",
      "               ('Afghanistan Ministry Public Health', 4),\n",
      "               ('Quantity', 4),\n",
      "               ('Numerator Total', 4),\n",
      "               ('UNICEF Afghanistan Country Office', 3),\n",
      "               ('NUTRITION SUPPLY CHAIN', 3),\n",
      "               ('Prepare', 3)]),\n",
      "             ('documents (2-gram)',\n",
      "              [('collection form', 10),\n",
      "               ('request form', 9),\n",
      "               ('order request', 9)]),\n",
      "             ('documents (3-gram)',\n",
      "              [('data collection form', 8),\n",
      "               ('nutrition supply request', 7),\n",
      "               ('supply request form', 7)]),\n",
      "             ('linked processes', [None]),\n",
      "             ('description',\n",
      "              ['1 1 1 1 1 1 contents foreword 2 acknowledgements . 3 '\n",
      "               'introduction 5 glossary and definitions 6 sop 01 7 '\n",
      "               'quantification and forecasting procedures . 7 sop 02 14 order '\n",
      "               'processing and dispatching procedures . 14 sop 03 19 goods '\n",
      "               'receiving procedures . 19 sop 04 24 goods storing procedures '\n",
      "               '24 sop 05 31 goods dispensing and issuing procedures 31 sop 06 '\n",
      "               '37 recall and disposal procedures . 37 sop 07 42 end use field '\n",
      "               'monitoring procedures . 42 appendix . 61 appendix a: monthly '\n",
      "               'statistics report form 61 appendix b: quarterly nutrition '\n",
      "               'supply request form 62 appendix c: stock card (sample) . 63 '\n",
      "               'appendix d: goods issue (sample) 64 appendix e: end use field '\n",
      "               'monitoring facility indicators 65 nutrition supply chain '\n",
      "               'management'])])\n"
     ]
    }
   ],
   "source": [
    "pprint.pprint(OrderedDict(information_dict))"
   ]
  },
  {
   "cell_type": "markdown",
   "metadata": {
    "slideshow": {
     "slide_type": "subslide"
    }
   },
   "source": [
    "### Output as dataframe"
   ]
  },
  {
   "cell_type": "code",
   "execution_count": 5,
   "metadata": {
    "scrolled": false,
    "slideshow": {
     "slide_type": "fragment"
    }
   },
   "outputs": [
    {
     "data": {
      "text/html": [
       "<div>\n",
       "<style scoped>\n",
       "    .dataframe tbody tr th:only-of-type {\n",
       "        vertical-align: middle;\n",
       "    }\n",
       "\n",
       "    .dataframe tbody tr th {\n",
       "        vertical-align: top;\n",
       "    }\n",
       "\n",
       "    .dataframe thead th {\n",
       "        text-align: right;\n",
       "    }\n",
       "</style>\n",
       "<table border=\"1\" class=\"dataframe\">\n",
       "  <thead>\n",
       "    <tr style=\"text-align: right;\">\n",
       "      <th></th>\n",
       "      <th>meta information</th>\n",
       "      <th>value</th>\n",
       "      <th>count</th>\n",
       "    </tr>\n",
       "  </thead>\n",
       "  <tbody>\n",
       "    <tr>\n",
       "      <th>0</th>\n",
       "      <td>name</td>\n",
       "      <td>QUANTIFICATION AND FORECASTING PROCEDURES</td>\n",
       "      <td>1</td>\n",
       "    </tr>\n",
       "    <tr>\n",
       "      <th>1</th>\n",
       "      <td>name</td>\n",
       "      <td>NUTRITION SUPPLY CHAIN MANAGEMENT</td>\n",
       "      <td>1</td>\n",
       "    </tr>\n",
       "    <tr>\n",
       "      <th>2</th>\n",
       "      <td>date</td>\n",
       "      <td>2018-05-03</td>\n",
       "      <td>None</td>\n",
       "    </tr>\n",
       "    <tr>\n",
       "      <th>3</th>\n",
       "      <td>date</td>\n",
       "      <td>2018-06-13</td>\n",
       "      <td>None</td>\n",
       "    </tr>\n",
       "    <tr>\n",
       "      <th>4</th>\n",
       "      <td>departments</td>\n",
       "      <td>SAM</td>\n",
       "      <td>14</td>\n",
       "    </tr>\n",
       "    <tr>\n",
       "      <th>5</th>\n",
       "      <td>departments</td>\n",
       "      <td>NAME</td>\n",
       "      <td>13</td>\n",
       "    </tr>\n",
       "    <tr>\n",
       "      <th>6</th>\n",
       "      <td>departments</td>\n",
       "      <td>PND</td>\n",
       "      <td>12</td>\n",
       "    </tr>\n",
       "    <tr>\n",
       "      <th>7</th>\n",
       "      <td>departments</td>\n",
       "      <td>SOP</td>\n",
       "      <td>7</td>\n",
       "    </tr>\n",
       "    <tr>\n",
       "      <th>8</th>\n",
       "      <td>departments</td>\n",
       "      <td>Standard Operating Procedure</td>\n",
       "      <td>7</td>\n",
       "    </tr>\n",
       "    <tr>\n",
       "      <th>9</th>\n",
       "      <td>departments</td>\n",
       "      <td>nut</td>\n",
       "      <td>6</td>\n",
       "    </tr>\n",
       "    <tr>\n",
       "      <th>10</th>\n",
       "      <td>departments</td>\n",
       "      <td>Review</td>\n",
       "      <td>5</td>\n",
       "    </tr>\n",
       "    <tr>\n",
       "      <th>11</th>\n",
       "      <td>departments</td>\n",
       "      <td>Denominator Total</td>\n",
       "      <td>5</td>\n",
       "    </tr>\n",
       "    <tr>\n",
       "      <th>12</th>\n",
       "      <td>departments</td>\n",
       "      <td>Afghanistan Ministry Public Health</td>\n",
       "      <td>4</td>\n",
       "    </tr>\n",
       "    <tr>\n",
       "      <th>13</th>\n",
       "      <td>departments</td>\n",
       "      <td>Quantity</td>\n",
       "      <td>4</td>\n",
       "    </tr>\n",
       "    <tr>\n",
       "      <th>14</th>\n",
       "      <td>departments</td>\n",
       "      <td>Numerator Total</td>\n",
       "      <td>4</td>\n",
       "    </tr>\n",
       "    <tr>\n",
       "      <th>15</th>\n",
       "      <td>departments</td>\n",
       "      <td>UNICEF Afghanistan Country Office</td>\n",
       "      <td>3</td>\n",
       "    </tr>\n",
       "    <tr>\n",
       "      <th>16</th>\n",
       "      <td>departments</td>\n",
       "      <td>NUTRITION SUPPLY CHAIN</td>\n",
       "      <td>3</td>\n",
       "    </tr>\n",
       "    <tr>\n",
       "      <th>17</th>\n",
       "      <td>departments</td>\n",
       "      <td>Prepare</td>\n",
       "      <td>3</td>\n",
       "    </tr>\n",
       "    <tr>\n",
       "      <th>18</th>\n",
       "      <td>documents (2-gram)</td>\n",
       "      <td>collection form</td>\n",
       "      <td>10</td>\n",
       "    </tr>\n",
       "    <tr>\n",
       "      <th>19</th>\n",
       "      <td>documents (2-gram)</td>\n",
       "      <td>request form</td>\n",
       "      <td>9</td>\n",
       "    </tr>\n",
       "    <tr>\n",
       "      <th>20</th>\n",
       "      <td>documents (2-gram)</td>\n",
       "      <td>order request</td>\n",
       "      <td>9</td>\n",
       "    </tr>\n",
       "    <tr>\n",
       "      <th>21</th>\n",
       "      <td>documents (3-gram)</td>\n",
       "      <td>data collection form</td>\n",
       "      <td>8</td>\n",
       "    </tr>\n",
       "    <tr>\n",
       "      <th>22</th>\n",
       "      <td>documents (3-gram)</td>\n",
       "      <td>nutrition supply request</td>\n",
       "      <td>7</td>\n",
       "    </tr>\n",
       "    <tr>\n",
       "      <th>23</th>\n",
       "      <td>documents (3-gram)</td>\n",
       "      <td>supply request form</td>\n",
       "      <td>7</td>\n",
       "    </tr>\n",
       "    <tr>\n",
       "      <th>24</th>\n",
       "      <td>linked processes</td>\n",
       "      <td>None</td>\n",
       "      <td>None</td>\n",
       "    </tr>\n",
       "    <tr>\n",
       "      <th>25</th>\n",
       "      <td>description</td>\n",
       "      <td>1 1 1 1 1 1 contents foreword 2 acknowledgemen...</td>\n",
       "      <td>None</td>\n",
       "    </tr>\n",
       "  </tbody>\n",
       "</table>\n",
       "</div>"
      ],
      "text/plain": [
       "      meta information                                              value  \\\n",
       "0                 name          QUANTIFICATION AND FORECASTING PROCEDURES   \n",
       "1                 name                  NUTRITION SUPPLY CHAIN MANAGEMENT   \n",
       "2                 date                                         2018-05-03   \n",
       "3                 date                                         2018-06-13   \n",
       "4          departments                                                SAM   \n",
       "5          departments                                               NAME   \n",
       "6          departments                                                PND   \n",
       "7          departments                                                SOP   \n",
       "8          departments                       Standard Operating Procedure   \n",
       "9          departments                                                nut   \n",
       "10         departments                                             Review   \n",
       "11         departments                                  Denominator Total   \n",
       "12         departments                 Afghanistan Ministry Public Health   \n",
       "13         departments                                           Quantity   \n",
       "14         departments                                    Numerator Total   \n",
       "15         departments                  UNICEF Afghanistan Country Office   \n",
       "16         departments                             NUTRITION SUPPLY CHAIN   \n",
       "17         departments                                            Prepare   \n",
       "18  documents (2-gram)                                    collection form   \n",
       "19  documents (2-gram)                                       request form   \n",
       "20  documents (2-gram)                                      order request   \n",
       "21  documents (3-gram)                               data collection form   \n",
       "22  documents (3-gram)                           nutrition supply request   \n",
       "23  documents (3-gram)                                supply request form   \n",
       "24    linked processes                                               None   \n",
       "25         description  1 1 1 1 1 1 contents foreword 2 acknowledgemen...   \n",
       "\n",
       "   count  \n",
       "0      1  \n",
       "1      1  \n",
       "2   None  \n",
       "3   None  \n",
       "4     14  \n",
       "5     13  \n",
       "6     12  \n",
       "7      7  \n",
       "8      7  \n",
       "9      6  \n",
       "10     5  \n",
       "11     5  \n",
       "12     4  \n",
       "13     4  \n",
       "14     4  \n",
       "15     3  \n",
       "16     3  \n",
       "17     3  \n",
       "18    10  \n",
       "19     9  \n",
       "20     9  \n",
       "21     8  \n",
       "22     7  \n",
       "23     7  \n",
       "24  None  \n",
       "25  None  "
      ]
     },
     "execution_count": 5,
     "metadata": {},
     "output_type": "execute_result"
    }
   ],
   "source": [
    "information_df"
   ]
  },
  {
   "cell_type": "code",
   "execution_count": null,
   "metadata": {},
   "outputs": [],
   "source": []
  }
 ],
 "metadata": {
  "kernelspec": {
   "display_name": "Python 3",
   "language": "python",
   "name": "python3"
  },
  "language_info": {
   "codemirror_mode": {
    "name": "ipython",
    "version": 3
   },
   "file_extension": ".py",
   "mimetype": "text/x-python",
   "name": "python",
   "nbconvert_exporter": "python",
   "pygments_lexer": "ipython3",
   "version": "3.8.5"
  }
 },
 "nbformat": 4,
 "nbformat_minor": 4
}
